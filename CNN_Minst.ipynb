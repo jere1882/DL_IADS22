{
  "nbformat": 4,
  "nbformat_minor": 0,
  "metadata": {
    "kernelspec": {
      "display_name": "Python 3",
      "language": "python",
      "name": "python3"
    },
    "language_info": {
      "codemirror_mode": {
        "name": "ipython",
        "version": 3
      },
      "file_extension": ".py",
      "mimetype": "text/x-python",
      "name": "python",
      "nbconvert_exporter": "python",
      "pygments_lexer": "ipython3",
      "version": "3.6.5"
    },
    "colab": {
      "name": "CNN_Minst.ipynb",
      "provenance": [],
      "collapsed_sections": [],
      "include_colab_link": true
    },
    "accelerator": "GPU"
  },
  "cells": [
    {
      "cell_type": "markdown",
      "metadata": {
        "id": "view-in-github",
        "colab_type": "text"
      },
      "source": [
        "<a href=\"https://colab.research.google.com/github/jere1882/DL_IADS22/blob/main/CNN_Minst.ipynb\" target=\"_parent\"><img src=\"https://colab.research.google.com/assets/colab-badge.svg\" alt=\"Open In Colab\"/></a>"
      ]
    },
    {
      "cell_type": "markdown",
      "metadata": {
        "id": "vwRGEQbzGpYQ"
      },
      "source": [
        "# First CNN model for MNIST Dataset\n",
        "\n",
        "* MNIST Dataset is ''Hello World'' of Image Recognition\n",
        "\n",
        "* [Dataset HomePage](http://yann.lecun.com/exdb/mnist/)\n",
        "\n",
        "* History of MNIST Dataset [Watch here](https://www.youtube.com/watch?v=oKzNUGz21JM)\n",
        "\n",
        "\n",
        "---\n",
        "The MNIST database of handwritten digits, available from this page, has a training set of 60,000 examples, and a \n",
        "test set of 10,000 examples. It is a subset of a larger set available from NIST. The digits have been size-normalized and centered in a fixed-size image.\n",
        "\n",
        "![Kitten](https://camo.githubusercontent.com/01c057a753e92a9bc70b8c45d62b295431851c09cffadf53106fc0aea7e2843f/687474703a2f2f692e7974696d672e636f6d2f76692f3051493378675875422d512f687164656661756c742e6a7067)\n"
      ]
    },
    {
      "cell_type": "markdown",
      "metadata": {
        "id": "PhmJOHCpJD_w"
      },
      "source": [
        "# Let's start building our first CNN Model"
      ]
    },
    {
      "cell_type": "code",
      "metadata": {
        "id": "lSyHCSV7jymI"
      },
      "source": [
        "from keras import layers # Library for Neural Network\n",
        "from keras import models "
      ],
      "execution_count": 1,
      "outputs": []
    },
    {
      "cell_type": "markdown",
      "metadata": {
        "id": "oWNzCYUUjymN"
      },
      "source": [
        "A convnet takes as input tensors of shape (image_height, image_width,\n",
        "image_channels) (not including the batch dimension). In this case, we’ll configure\n",
        "the convnet to process inputs of size (28, 28, 1), which is the format of MNIST\n",
        "images. We’ll do this by passing the argument input_shape=(28, 28, 1) to the first\n",
        "layer."
      ]
    },
    {
      "cell_type": "markdown",
      "metadata": {
        "id": "dM4JLEpwjymN"
      },
      "source": [
        "#### Instantiating a small convnet"
      ]
    },
    {
      "cell_type": "code",
      "metadata": {
        "id": "p-OnpExGjymO",
        "colab": {
          "base_uri": "https://localhost:8080/"
        },
        "outputId": "e67c401b-cda5-4db5-d2d7-6cb86aa51161"
      },
      "source": [
        "model = models.Sequential()\n",
        "\n",
        "# Block 1.  I add 32 kernels of size 3x3 \n",
        "model.add(layers.Conv2D(32, (3, 3), activation='relu', input_shape=(28, 28, 1))) # 1 Layers\n",
        "model.add(layers.MaxPooling2D((2, 2)))\n",
        "\n",
        "# Block 2. I add 64 kernels of size 3x3\n",
        "model.add(layers.Conv2D(64, (3, 3), activation='relu'))\n",
        "model.add(layers.MaxPooling2D((2, 2)))\n",
        "\n",
        "# Block 3\n",
        "model.add(layers.Conv2D(64, (3, 3), activation='relu'))\n",
        "model.summary()"
      ],
      "execution_count": 2,
      "outputs": [
        {
          "output_type": "stream",
          "name": "stdout",
          "text": [
            "Model: \"sequential\"\n",
            "_________________________________________________________________\n",
            " Layer (type)                Output Shape              Param #   \n",
            "=================================================================\n",
            " conv2d (Conv2D)             (None, 26, 26, 32)        320       \n",
            "                                                                 \n",
            " max_pooling2d (MaxPooling2D  (None, 13, 13, 32)       0         \n",
            " )                                                               \n",
            "                                                                 \n",
            " conv2d_1 (Conv2D)           (None, 11, 11, 64)        18496     \n",
            "                                                                 \n",
            " max_pooling2d_1 (MaxPooling  (None, 5, 5, 64)         0         \n",
            " 2D)                                                             \n",
            "                                                                 \n",
            " conv2d_2 (Conv2D)           (None, 3, 3, 64)          36928     \n",
            "                                                                 \n",
            "=================================================================\n",
            "Total params: 55,744\n",
            "Trainable params: 55,744\n",
            "Non-trainable params: 0\n",
            "_________________________________________________________________\n"
          ]
        }
      ]
    },
    {
      "cell_type": "markdown",
      "metadata": {
        "id": "7gcVG3xkjymR"
      },
      "source": [
        "#### Adding a classifier on top of the convnet"
      ]
    },
    {
      "cell_type": "code",
      "metadata": {
        "id": "C2DfhDJYjymR",
        "colab": {
          "base_uri": "https://localhost:8080/"
        },
        "outputId": "abeda243-cf07-4d30-c28a-55c971a835e4"
      },
      "source": [
        "model.add(layers.Flatten())\n",
        "model.add(layers.Dense(64, activation='relu')) \n",
        "model.add(layers.Dense(10, activation='softmax'))  # output probabilities\n",
        "model.summary()"
      ],
      "execution_count": 3,
      "outputs": [
        {
          "output_type": "stream",
          "name": "stdout",
          "text": [
            "Model: \"sequential\"\n",
            "_________________________________________________________________\n",
            " Layer (type)                Output Shape              Param #   \n",
            "=================================================================\n",
            " conv2d (Conv2D)             (None, 26, 26, 32)        320       \n",
            "                                                                 \n",
            " max_pooling2d (MaxPooling2D  (None, 13, 13, 32)       0         \n",
            " )                                                               \n",
            "                                                                 \n",
            " conv2d_1 (Conv2D)           (None, 11, 11, 64)        18496     \n",
            "                                                                 \n",
            " max_pooling2d_1 (MaxPooling  (None, 5, 5, 64)         0         \n",
            " 2D)                                                             \n",
            "                                                                 \n",
            " conv2d_2 (Conv2D)           (None, 3, 3, 64)          36928     \n",
            "                                                                 \n",
            " flatten (Flatten)           (None, 576)               0         \n",
            "                                                                 \n",
            " dense (Dense)               (None, 64)                36928     \n",
            "                                                                 \n",
            " dense_1 (Dense)             (None, 10)                650       \n",
            "                                                                 \n",
            "=================================================================\n",
            "Total params: 93,322\n",
            "Trainable params: 93,322\n",
            "Non-trainable params: 0\n",
            "_________________________________________________________________\n"
          ]
        }
      ]
    },
    {
      "cell_type": "markdown",
      "metadata": {
        "id": "NOKVF4nKjymU"
      },
      "source": [
        "### Training the convnet on MNIST images"
      ]
    },
    {
      "cell_type": "code",
      "metadata": {
        "id": "xP7-zdLbsDeR"
      },
      "source": [
        "import tensorflow as tf"
      ],
      "execution_count": 4,
      "outputs": []
    },
    {
      "cell_type": "code",
      "metadata": {
        "id": "oIcgUbbUjymV"
      },
      "source": [
        "from keras.datasets import mnist"
      ],
      "execution_count": 5,
      "outputs": []
    },
    {
      "cell_type": "markdown",
      "metadata": {
        "id": "ZnJ2Pfs_jymX"
      },
      "source": [
        "#### Load Data"
      ]
    },
    {
      "cell_type": "code",
      "metadata": {
        "id": "JpHGHE9MjymY",
        "colab": {
          "base_uri": "https://localhost:8080/"
        },
        "outputId": "a0a75338-f9b0-487b-c758-5bc1a959e4d2"
      },
      "source": [
        "(train_images, train_labels), (test_images, test_labels) = mnist.load_data()"
      ],
      "execution_count": 6,
      "outputs": [
        {
          "output_type": "stream",
          "name": "stdout",
          "text": [
            "Downloading data from https://storage.googleapis.com/tensorflow/tf-keras-datasets/mnist.npz\n",
            "11493376/11490434 [==============================] - 0s 0us/step\n",
            "11501568/11490434 [==============================] - 0s 0us/step\n"
          ]
        }
      ]
    },
    {
      "cell_type": "code",
      "metadata": {
        "id": "X51q9vhIs9c-"
      },
      "source": [
        "train_images = train_images.reshape((60000, 28, 28, 1)) #The data is flattened; we reshape it to have matrix form\n",
        "train_images = train_images.astype('float32') / 255\n",
        "test_images = test_images.reshape((10000, 28, 28, 1))\n",
        "test_images = test_images.astype('float32') / 255"
      ],
      "execution_count": 7,
      "outputs": []
    },
    {
      "cell_type": "code",
      "metadata": {
        "id": "uYJEAHIqswib"
      },
      "source": [
        "train_labels = tf.keras.utils.to_categorical(train_labels)\n",
        "test_labels = tf.keras.utils.to_categorical(test_labels)"
      ],
      "execution_count": 8,
      "outputs": []
    },
    {
      "cell_type": "markdown",
      "metadata": {
        "id": "4HoTLrfSjymd"
      },
      "source": [
        "#### compile and fit model "
      ]
    },
    {
      "cell_type": "code",
      "metadata": {
        "id": "i23FDtC9jyme",
        "colab": {
          "base_uri": "https://localhost:8080/"
        },
        "outputId": "228c9834-aa26-4438-f2dd-c3046f9d8e94"
      },
      "source": [
        "model.compile(optimizer='rmsprop', \n",
        "              loss='categorical_crossentropy',\n",
        "              metrics=['accuracy'])\n",
        "history = model.fit(train_images, train_labels, epochs=5, batch_size=64, validation_split=0.2) # 20% of the data is used for validation"
      ],
      "execution_count": 9,
      "outputs": [
        {
          "output_type": "stream",
          "name": "stdout",
          "text": [
            "Epoch 1/5\n",
            "750/750 [==============================] - 17s 5ms/step - loss: 0.2053 - accuracy: 0.9366 - val_loss: 0.0584 - val_accuracy: 0.9830\n",
            "Epoch 2/5\n",
            "750/750 [==============================] - 4s 5ms/step - loss: 0.0533 - accuracy: 0.9832 - val_loss: 0.0534 - val_accuracy: 0.9835\n",
            "Epoch 3/5\n",
            "750/750 [==============================] - 4s 5ms/step - loss: 0.0369 - accuracy: 0.9884 - val_loss: 0.0383 - val_accuracy: 0.9890\n",
            "Epoch 4/5\n",
            "750/750 [==============================] - 4s 5ms/step - loss: 0.0262 - accuracy: 0.9917 - val_loss: 0.0419 - val_accuracy: 0.9887\n",
            "Epoch 5/5\n",
            "750/750 [==============================] - 4s 5ms/step - loss: 0.0203 - accuracy: 0.9936 - val_loss: 0.0372 - val_accuracy: 0.9900\n"
          ]
        }
      ]
    },
    {
      "cell_type": "markdown",
      "metadata": {
        "id": "9zU8iI5ojymg"
      },
      "source": [
        "#### evaluate model"
      ]
    },
    {
      "cell_type": "code",
      "metadata": {
        "id": "Z3VeaL1Njymh",
        "colab": {
          "base_uri": "https://localhost:8080/"
        },
        "outputId": "b56f7f8d-8f2e-45b4-8b40-53169b7788c9"
      },
      "source": [
        "test_loss, test_acc = model.evaluate(test_images, test_labels)\n",
        "test_acc"
      ],
      "execution_count": 10,
      "outputs": [
        {
          "output_type": "stream",
          "name": "stdout",
          "text": [
            "313/313 [==============================] - 1s 3ms/step - loss: 0.0240 - accuracy: 0.9940\n"
          ]
        },
        {
          "output_type": "execute_result",
          "data": {
            "text/plain": [
              "0.9940000176429749"
            ]
          },
          "metadata": {},
          "execution_count": 10
        }
      ]
    },
    {
      "cell_type": "code",
      "metadata": {
        "id": "MltI4Yx4B9Tn",
        "outputId": "0f63f9ab-b8a2-4fd2-e464-0059998e336d",
        "colab": {
          "base_uri": "https://localhost:8080/"
        }
      },
      "source": [
        "import numpy as np\n",
        "\n",
        "img = test_images[1, :, :, :]\n",
        "\n",
        "img1 = np.expand_dims(img, axis=0)\n",
        "\n",
        "y = model.predict(img1)\n",
        "print(y)"
      ],
      "execution_count": 11,
      "outputs": [
        {
          "output_type": "stream",
          "name": "stdout",
          "text": [
            "[[4.4059458e-09 2.3124782e-07 9.9999976e-01 1.9043687e-13 3.5072812e-14\n",
            "  2.8362876e-14 3.7389456e-11 2.8358499e-10 1.5694383e-11 3.3759315e-14]]\n"
          ]
        }
      ]
    },
    {
      "cell_type": "code",
      "metadata": {
        "id": "wXNZOY7Sjymj",
        "colab": {
          "base_uri": "https://localhost:8080/",
          "height": 545
        },
        "outputId": "eadfc408-357f-407a-9b0b-2d9fd3819c46"
      },
      "source": [
        "import matplotlib.pyplot as plt\n",
        "\n",
        "acc = history.history['accuracy']\n",
        "val_acc = history.history['val_accuracy']\n",
        "loss = history.history['loss']\n",
        "val_loss = history.history['val_loss']\n",
        "\n",
        "epochs = range(1, len(acc) + 1)\n",
        "\n",
        "plt.plot(epochs, acc, 'b', label='Training acc')\n",
        "plt.plot(epochs, val_acc, 'b', color=\"red\", label='Validation acc')\n",
        "plt.title('Training and validation accuracy')\n",
        "plt.legend()\n",
        "\n",
        "plt.figure()\n",
        "\n",
        "plt.plot(epochs, loss, 'b', label='Training loss')\n",
        "plt.plot(epochs, val_loss, 'b', color=\"red\",label='Validation loss')\n",
        "plt.title('Training and validation loss')\n",
        "plt.legend()\n",
        "\n",
        "plt.show()"
      ],
      "execution_count": 16,
      "outputs": [
        {
          "output_type": "display_data",
          "data": {
            "text/plain": [
              "<Figure size 432x288 with 1 Axes>"
            ],
            "image/png": "[encoded data removed]"
          },
          "metadata": {
            "needs_background": "light"
          }
        },
        {
          "output_type": "display_data",
          "data": {
            "text/plain": [
              "<Figure size 432x288 with 1 Axes>"
            ],
            "image/png": "[encoded data removed]"
          },
          "metadata": {
            "needs_background": "light"
          }
        }
      ]
    },
    {
      "cell_type": "markdown",
      "metadata": {
        "id": "dsQMc0Iojyml"
      },
      "source": [
        "## Task 1\n",
        "\n",
        "Change the activation function and other parameters such as optimizer to see the effect on the network and it's performance. If possible create a grid search. "
      ]
    },
    {
      "cell_type": "code",
      "metadata": {
        "id": "owJ-29BrJXNa",
        "outputId": "3d323fe9-ea39-41a9-9330-72a1b1adc3ab",
        "colab": {
          "base_uri": "https://localhost:8080/"
        }
      },
      "source": [
        "# Experiment 1: What if we add a more powerful densely layer network at the end?\n",
        "\n",
        "model = models.Sequential()\n",
        "\n",
        "# Block 1.  I add 32 kernels of size 3x3 \n",
        "model.add(layers.Conv2D(32, (3, 3), activation='relu', input_shape=(28, 28, 1))) # 1 Layers\n",
        "model.add(layers.MaxPooling2D((2, 2)))\n",
        "\n",
        "# Block 2. I add 64 kernels of size 3x3\n",
        "model.add(layers.Conv2D(64, (3, 3), activation='relu'))\n",
        "model.add(layers.MaxPooling2D((2, 2)))\n",
        "\n",
        "# Block 3\n",
        "model.add(layers.Conv2D(64, (3, 3), activation='relu'))\n",
        "\n",
        "model.add(layers.Flatten())\n",
        "model.add(layers.Dense(120, activation='relu')) \n",
        "model.add(layers.Dense(30, activation='relu')) \n",
        "model.add(layers.Dense(10, activation='softmax'))  # output probabilities\n",
        "model.summary()\n",
        "\n",
        "model.compile(optimizer='rmsprop', \n",
        "              loss='categorical_crossentropy',\n",
        "              metrics=['accuracy'])\n",
        "history = model.fit(train_images, train_labels, epochs=5, batch_size=64, validation_split=0.2) # 20% of the data is used for validation\n",
        "\n",
        "test_loss, test_acc = model.evaluate(test_images, test_labels)\n",
        "test_acc\n"
      ],
      "execution_count": 13,
      "outputs": [
        {
          "output_type": "stream",
          "name": "stdout",
          "text": [
            "Model: \"sequential_1\"\n",
            "_________________________________________________________________\n",
            " Layer (type)                Output Shape              Param #   \n",
            "=================================================================\n",
            " conv2d_3 (Conv2D)           (None, 26, 26, 32)        320       \n",
            "                                                                 \n",
            " max_pooling2d_2 (MaxPooling  (None, 13, 13, 32)       0         \n",
            " 2D)                                                             \n",
            "                                                                 \n",
            " conv2d_4 (Conv2D)           (None, 11, 11, 64)        18496     \n",
            "                                                                 \n",
            " max_pooling2d_3 (MaxPooling  (None, 5, 5, 64)         0         \n",
            " 2D)                                                             \n",
            "                                                                 \n",
            " conv2d_5 (Conv2D)           (None, 3, 3, 64)          36928     \n",
            "                                                                 \n",
            " flatten_1 (Flatten)         (None, 576)               0         \n",
            "                                                                 \n",
            " dense_2 (Dense)             (None, 120)               69240     \n",
            "                                                                 \n",
            " dense_3 (Dense)             (None, 30)                3630      \n",
            "                                                                 \n",
            " dense_4 (Dense)             (None, 10)                310       \n",
            "                                                                 \n",
            "=================================================================\n",
            "Total params: 128,924\n",
            "Trainable params: 128,924\n",
            "Non-trainable params: 0\n",
            "_________________________________________________________________\n",
            "Epoch 1/5\n",
            "750/750 [==============================] - 5s 6ms/step - loss: 0.2413 - accuracy: 0.9244 - val_loss: 0.0873 - val_accuracy: 0.9751\n",
            "Epoch 2/5\n",
            "750/750 [==============================] - 4s 5ms/step - loss: 0.0575 - accuracy: 0.9822 - val_loss: 0.0452 - val_accuracy: 0.9874\n",
            "Epoch 3/5\n",
            "750/750 [==============================] - 4s 5ms/step - loss: 0.0379 - accuracy: 0.9880 - val_loss: 0.0404 - val_accuracy: 0.9883\n",
            "Epoch 4/5\n",
            "750/750 [==============================] - 4s 5ms/step - loss: 0.0283 - accuracy: 0.9912 - val_loss: 0.0443 - val_accuracy: 0.9868\n",
            "Epoch 5/5\n",
            "750/750 [==============================] - 4s 5ms/step - loss: 0.0224 - accuracy: 0.9929 - val_loss: 0.0477 - val_accuracy: 0.9874\n",
            "313/313 [==============================] - 1s 3ms/step - loss: 0.0322 - accuracy: 0.9904\n"
          ]
        },
        {
          "output_type": "execute_result",
          "data": {
            "text/plain": [
              "0.9904000163078308"
            ]
          },
          "metadata": {},
          "execution_count": 13
        }
      ]
    },
    {
      "cell_type": "code",
      "source": [
        "# Experiment 2: What if we add a much more powerful densely layer network at the end?\n",
        "\n",
        "model = models.Sequential()\n",
        "\n",
        "# Block 1.  I add 32 kernels of size 3x3 \n",
        "model.add(layers.Conv2D(32, (4, 4), activation='relu', input_shape=(28, 28, 1))) # 1 Layers\n",
        "model.add(layers.Conv2D(32, (2, 2), activation='relu'))\n",
        "model.add(layers.Conv2D(64, (2, 2), activation='relu'))\n",
        "model.add(layers.Conv2D(100, (2, 2), activation='relu'))\n",
        "\n",
        "# Block 3\n",
        "model.add(layers.Conv2D(64, (2, 2), activation='relu'))\n",
        "\n",
        "model.add(layers.Flatten())\n",
        "model.add(layers.Dense(1000, activation='relu')) \n",
        "model.add(layers.Dense(500, activation='relu')) \n",
        "model.add(layers.Dense(10, activation='softmax'))  # output probabilities\n",
        "model.summary()\n",
        "\n",
        "model.compile(optimizer='rmsprop', \n",
        "              loss='categorical_crossentropy',\n",
        "              metrics=['accuracy'])\n",
        "history = model.fit(train_images, train_labels, epochs=5, batch_size=64, validation_split=0.2) # 20% of the data is used for validation\n",
        "\n",
        "test_loss, test_acc = model.evaluate(test_images, test_labels)\n",
        "test_acc\n"
      ],
      "metadata": {
        "id": "YSt_V_tjq1HG",
        "outputId": "0567e1c6-1fad-4214-b422-b59862ee3a03",
        "colab": {
          "base_uri": "https://localhost:8080/"
        }
      },
      "execution_count": 14,
      "outputs": [
        {
          "output_type": "stream",
          "name": "stdout",
          "text": [
            "Model: \"sequential_2\"\n",
            "_________________________________________________________________\n",
            " Layer (type)                Output Shape              Param #   \n",
            "=================================================================\n",
            " conv2d_6 (Conv2D)           (None, 25, 25, 32)        544       \n",
            "                                                                 \n",
            " conv2d_7 (Conv2D)           (None, 24, 24, 32)        4128      \n",
            "                                                                 \n",
            " conv2d_8 (Conv2D)           (None, 23, 23, 64)        8256      \n",
            "                                                                 \n",
            " conv2d_9 (Conv2D)           (None, 22, 22, 100)       25700     \n",
            "                                                                 \n",
            " conv2d_10 (Conv2D)          (None, 21, 21, 64)        25664     \n",
            "                                                                 \n",
            " flatten_2 (Flatten)         (None, 28224)             0         \n",
            "                                                                 \n",
            " dense_5 (Dense)             (None, 1000)              28225000  \n",
            "                                                                 \n",
            " dense_6 (Dense)             (None, 500)               500500    \n",
            "                                                                 \n",
            " dense_7 (Dense)             (None, 10)                5010      \n",
            "                                                                 \n",
            "=================================================================\n",
            "Total params: 28,794,802\n",
            "Trainable params: 28,794,802\n",
            "Non-trainable params: 0\n",
            "_________________________________________________________________\n",
            "Epoch 1/5\n",
            "750/750 [==============================] - 19s 24ms/step - loss: 0.1738 - accuracy: 0.9474 - val_loss: 0.0899 - val_accuracy: 0.9754\n",
            "Epoch 2/5\n",
            "750/750 [==============================] - 18s 23ms/step - loss: 0.0521 - accuracy: 0.9845 - val_loss: 0.0541 - val_accuracy: 0.9842\n",
            "Epoch 3/5\n",
            "750/750 [==============================] - 17s 23ms/step - loss: 0.0380 - accuracy: 0.9894 - val_loss: 0.0488 - val_accuracy: 0.9881\n",
            "Epoch 4/5\n",
            "750/750 [==============================] - 18s 23ms/step - loss: 0.0286 - accuracy: 0.9924 - val_loss: 0.0684 - val_accuracy: 0.9853\n",
            "Epoch 5/5\n",
            "750/750 [==============================] - 20s 26ms/step - loss: 0.0241 - accuracy: 0.9938 - val_loss: 0.0639 - val_accuracy: 0.9896\n",
            "313/313 [==============================] - 1s 4ms/step - loss: 0.0616 - accuracy: 0.9889\n"
          ]
        },
        {
          "output_type": "execute_result",
          "data": {
            "text/plain": [
              "0.9889000058174133"
            ]
          },
          "metadata": {},
          "execution_count": 14
        }
      ]
    },
    {
      "cell_type": "code",
      "source": [
        "# A very simple network that achieves 99% performance\n",
        "model = models.Sequential(\n",
        "    [\n",
        "        models.Input(shape=(28, 28, 1)),\n",
        "        layers.Conv2D(32, kernel_size=(3, 3), activation=\"relu\"),\n",
        "        layers.MaxPooling2D(pool_size=(2, 2)),\n",
        "        layers.Conv2D(64, kernel_size=(3, 3), activation=\"relu\"),\n",
        "        layers.MaxPooling2D(pool_size=(2, 2)),\n",
        "        layers.Flatten(),\n",
        "        layers.Dropout(0.5),\n",
        "        layers.Dense(10, activation=\"softmax\"),\n",
        "    ]\n",
        ")\n",
        "\n",
        "model.summary()\n",
        "\n",
        "model.compile(optimizer='adam', \n",
        "              loss='categorical_crossentropy',\n",
        "              metrics=['accuracy'])\n",
        "history = model.fit(train_images, train_labels, epochs=15, batch_size=128, validation_split=0.2) # 20% of the data is used for validation\n",
        "\n",
        "test_loss, test_acc = model.evaluate(test_images, test_labels)\n",
        "test_acc\n"
      ],
      "metadata": {
        "colab": {
          "base_uri": "https://localhost:8080/"
        },
        "id": "fLK-2Qjr_bdD",
        "outputId": "9a6f0c55-0d76-40c5-9cfa-391948a63d78"
      },
      "execution_count": 18,
      "outputs": [
        {
          "output_type": "stream",
          "name": "stdout",
          "text": [
            "Model: \"sequential_4\"\n",
            "_________________________________________________________________\n",
            " Layer (type)                Output Shape              Param #   \n",
            "=================================================================\n",
            " conv2d_13 (Conv2D)          (None, 26, 26, 32)        320       \n",
            "                                                                 \n",
            " max_pooling2d_6 (MaxPooling  (None, 13, 13, 32)       0         \n",
            " 2D)                                                             \n",
            "                                                                 \n",
            " conv2d_14 (Conv2D)          (None, 11, 11, 64)        18496     \n",
            "                                                                 \n",
            " max_pooling2d_7 (MaxPooling  (None, 5, 5, 64)         0         \n",
            " 2D)                                                             \n",
            "                                                                 \n",
            " flatten_4 (Flatten)         (None, 1600)              0         \n",
            "                                                                 \n",
            " dropout_1 (Dropout)         (None, 1600)              0         \n",
            "                                                                 \n",
            " dense_9 (Dense)             (None, 10)                16010     \n",
            "                                                                 \n",
            "=================================================================\n",
            "Total params: 34,826\n",
            "Trainable params: 34,826\n",
            "Non-trainable params: 0\n",
            "_________________________________________________________________\n",
            "Epoch 1/15\n",
            "375/375 [==============================] - 4s 8ms/step - loss: 0.4101 - accuracy: 0.8746 - val_loss: 0.0997 - val_accuracy: 0.9709\n",
            "Epoch 2/15\n",
            "375/375 [==============================] - 2s 6ms/step - loss: 0.1154 - accuracy: 0.9646 - val_loss: 0.0741 - val_accuracy: 0.9794\n",
            "Epoch 3/15\n",
            "375/375 [==============================] - 2s 5ms/step - loss: 0.0849 - accuracy: 0.9737 - val_loss: 0.0526 - val_accuracy: 0.9858\n",
            "Epoch 4/15\n",
            "375/375 [==============================] - 2s 5ms/step - loss: 0.0723 - accuracy: 0.9777 - val_loss: 0.0480 - val_accuracy: 0.9870\n",
            "Epoch 5/15\n",
            "375/375 [==============================] - 2s 5ms/step - loss: 0.0626 - accuracy: 0.9807 - val_loss: 0.0492 - val_accuracy: 0.9872\n",
            "Epoch 6/15\n",
            "375/375 [==============================] - 2s 5ms/step - loss: 0.0560 - accuracy: 0.9823 - val_loss: 0.0454 - val_accuracy: 0.9876\n",
            "Epoch 7/15\n",
            "375/375 [==============================] - 2s 5ms/step - loss: 0.0531 - accuracy: 0.9833 - val_loss: 0.0398 - val_accuracy: 0.9885\n",
            "Epoch 8/15\n",
            "375/375 [==============================] - 2s 5ms/step - loss: 0.0477 - accuracy: 0.9848 - val_loss: 0.0406 - val_accuracy: 0.9876\n",
            "Epoch 9/15\n",
            "375/375 [==============================] - 2s 5ms/step - loss: 0.0435 - accuracy: 0.9863 - val_loss: 0.0369 - val_accuracy: 0.9901\n",
            "Epoch 10/15\n",
            "375/375 [==============================] - 2s 5ms/step - loss: 0.0421 - accuracy: 0.9865 - val_loss: 0.0351 - val_accuracy: 0.9898\n",
            "Epoch 11/15\n",
            "375/375 [==============================] - 2s 5ms/step - loss: 0.0401 - accuracy: 0.9870 - val_loss: 0.0368 - val_accuracy: 0.9897\n",
            "Epoch 12/15\n",
            "375/375 [==============================] - 2s 5ms/step - loss: 0.0375 - accuracy: 0.9881 - val_loss: 0.0333 - val_accuracy: 0.9899\n",
            "Epoch 13/15\n",
            "375/375 [==============================] - 2s 5ms/step - loss: 0.0363 - accuracy: 0.9882 - val_loss: 0.0333 - val_accuracy: 0.9903\n",
            "Epoch 14/15\n",
            "375/375 [==============================] - 2s 5ms/step - loss: 0.0341 - accuracy: 0.9889 - val_loss: 0.0337 - val_accuracy: 0.9907\n",
            "Epoch 15/15\n",
            "375/375 [==============================] - 2s 5ms/step - loss: 0.0344 - accuracy: 0.9892 - val_loss: 0.0322 - val_accuracy: 0.9911\n",
            "313/313 [==============================] - 1s 3ms/step - loss: 0.0270 - accuracy: 0.9912\n"
          ]
        },
        {
          "output_type": "execute_result",
          "data": {
            "text/plain": [
              "0.9911999702453613"
            ]
          },
          "metadata": {},
          "execution_count": 18
        }
      ]
    }
  ]
}