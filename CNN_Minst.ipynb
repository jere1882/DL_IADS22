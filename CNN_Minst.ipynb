{
  "nbformat": 4,
  "nbformat_minor": 0,
  "metadata": {
    "kernelspec": {
      "display_name": "Python 3",
      "language": "python",
      "name": "python3"
    },
    "language_info": {
      "codemirror_mode": {
        "name": "ipython",
        "version": 3
      },
      "file_extension": ".py",
      "mimetype": "text/x-python",
      "name": "python",
      "nbconvert_exporter": "python",
      "pygments_lexer": "ipython3",
      "version": "3.6.5"
    },
    "colab": {
      "name": "CNN_Minst.ipynb",
      "provenance": [],
      "collapsed_sections": [],
      "include_colab_link": true
    },
    "accelerator": "GPU"
  },
  "cells": [
    {
      "cell_type": "markdown",
      "metadata": {
        "id": "view-in-github",
        "colab_type": "text"
      },
      "source": [
        "<a href=\"https://colab.research.google.com/github/jere1882/DL_IADS22/blob/main/CNN_Minst.ipynb\" target=\"_parent\"><img src=\"https://colab.research.google.com/assets/colab-badge.svg\" alt=\"Open In Colab\"/></a>"
      ]
    },
    {
      "cell_type": "markdown",
      "metadata": {
        "id": "vwRGEQbzGpYQ"
      },
      "source": [
        "# First CNN model for MNIST Dataset\n",
        "\n",
        "* MNIST Dataset is ''Hello World'' of Image Recognition\n",
        "\n",
        "* [Dataset HomePage](http://yann.lecun.com/exdb/mnist/)\n",
        "\n",
        "* History of MNIST Dataset [Watch here](https://www.youtube.com/watch?v=oKzNUGz21JM)\n",
        "\n",
        "\n",
        "---\n",
        "The MNIST database of handwritten digits, available from this page, has a training set of 60,000 examples, and a \n",
        "test set of 10,000 examples. It is a subset of a larger set available from NIST. The digits have been size-normalized and centered in a fixed-size image.\n",
        "\n",
        "![Kitten](https://camo.githubusercontent.com/01c057a753e92a9bc70b8c45d62b295431851c09cffadf53106fc0aea7e2843f/687474703a2f2f692e7974696d672e636f6d2f76692f3051493378675875422d512f687164656661756c742e6a7067)\n"
      ]
    },
    {
      "cell_type": "markdown",
      "metadata": {
        "id": "PhmJOHCpJD_w"
      },
      "source": [
        "# Let's start building our first CNN Model"
      ]
    },
    {
      "cell_type": "code",
      "metadata": {
        "id": "lSyHCSV7jymI"
      },
      "source": [
        "from keras import layers # Library for Neural Network\n",
        "from keras import models "
      ],
      "execution_count": 1,
      "outputs": []
    },
    {
      "cell_type": "markdown",
      "metadata": {
        "id": "oWNzCYUUjymN"
      },
      "source": [
        "A convnet takes as input tensors of shape (image_height, image_width,\n",
        "image_channels) (not including the batch dimension). In this case, we’ll configure\n",
        "the convnet to process inputs of size (28, 28, 1), which is the format of MNIST\n",
        "images. We’ll do this by passing the argument input_shape=(28, 28, 1) to the first\n",
        "layer."
      ]
    },
    {
      "cell_type": "markdown",
      "metadata": {
        "id": "dM4JLEpwjymN"
      },
      "source": [
        "#### Instantiating a small convnet"
      ]
    },
    {
      "cell_type": "code",
      "metadata": {
        "id": "p-OnpExGjymO",
        "colab": {
          "base_uri": "https://localhost:8080/"
        },
        "outputId": "141893fd-e596-406b-81e0-02bb46a96a22"
      },
      "source": [
        "model = models.Sequential()\n",
        "\n",
        "# Block 1.  I add 32 kernels of size 3x3 \n",
        "model.add(layers.Conv2D(32, (3, 3), activation='relu', input_shape=(28, 28, 1))) # 1 Layers\n",
        "model.add(layers.MaxPooling2D((2, 2)))\n",
        "\n",
        "# Block 2. I add 64 kernels of size 3x3\n",
        "model.add(layers.Conv2D(64, (3, 3), activation='relu'))\n",
        "model.add(layers.MaxPooling2D((2, 2)))\n",
        "\n",
        "# Block 3\n",
        "model.add(layers.Conv2D(64, (3, 3), activation='relu'))\n",
        "model.summary()"
      ],
      "execution_count": 2,
      "outputs": [
        {
          "output_type": "stream",
          "name": "stdout",
          "text": [
            "Model: \"sequential\"\n",
            "_________________________________________________________________\n",
            " Layer (type)                Output Shape              Param #   \n",
            "=================================================================\n",
            " conv2d (Conv2D)             (None, 26, 26, 32)        320       \n",
            "                                                                 \n",
            " max_pooling2d (MaxPooling2D  (None, 13, 13, 32)       0         \n",
            " )                                                               \n",
            "                                                                 \n",
            " conv2d_1 (Conv2D)           (None, 11, 11, 64)        18496     \n",
            "                                                                 \n",
            " max_pooling2d_1 (MaxPooling  (None, 5, 5, 64)         0         \n",
            " 2D)                                                             \n",
            "                                                                 \n",
            " conv2d_2 (Conv2D)           (None, 3, 3, 64)          36928     \n",
            "                                                                 \n",
            "=================================================================\n",
            "Total params: 55,744\n",
            "Trainable params: 55,744\n",
            "Non-trainable params: 0\n",
            "_________________________________________________________________\n"
          ]
        }
      ]
    },
    {
      "cell_type": "markdown",
      "metadata": {
        "id": "7gcVG3xkjymR"
      },
      "source": [
        "#### Adding a classifier on top of the convnet"
      ]
    },
    {
      "cell_type": "code",
      "metadata": {
        "id": "C2DfhDJYjymR",
        "colab": {
          "base_uri": "https://localhost:8080/"
        },
        "outputId": "060faefb-e483-46b1-f19e-e11821589d65"
      },
      "source": [
        "model.add(layers.Flatten())\n",
        "model.add(layers.Dense(64, activation='relu')) \n",
        "model.add(layers.Dense(10, activation='softmax'))  # output probabilities\n",
        "model.summary()"
      ],
      "execution_count": 3,
      "outputs": [
        {
          "output_type": "stream",
          "name": "stdout",
          "text": [
            "Model: \"sequential\"\n",
            "_________________________________________________________________\n",
            " Layer (type)                Output Shape              Param #   \n",
            "=================================================================\n",
            " conv2d (Conv2D)             (None, 26, 26, 32)        320       \n",
            "                                                                 \n",
            " max_pooling2d (MaxPooling2D  (None, 13, 13, 32)       0         \n",
            " )                                                               \n",
            "                                                                 \n",
            " conv2d_1 (Conv2D)           (None, 11, 11, 64)        18496     \n",
            "                                                                 \n",
            " max_pooling2d_1 (MaxPooling  (None, 5, 5, 64)         0         \n",
            " 2D)                                                             \n",
            "                                                                 \n",
            " conv2d_2 (Conv2D)           (None, 3, 3, 64)          36928     \n",
            "                                                                 \n",
            " flatten (Flatten)           (None, 576)               0         \n",
            "                                                                 \n",
            " dense (Dense)               (None, 64)                36928     \n",
            "                                                                 \n",
            " dense_1 (Dense)             (None, 10)                650       \n",
            "                                                                 \n",
            "=================================================================\n",
            "Total params: 93,322\n",
            "Trainable params: 93,322\n",
            "Non-trainable params: 0\n",
            "_________________________________________________________________\n"
          ]
        }
      ]
    },
    {
      "cell_type": "markdown",
      "metadata": {
        "id": "NOKVF4nKjymU"
      },
      "source": [
        "### Training the convnet on MNIST images"
      ]
    },
    {
      "cell_type": "code",
      "metadata": {
        "id": "xP7-zdLbsDeR"
      },
      "source": [
        "import tensorflow as tf"
      ],
      "execution_count": 4,
      "outputs": []
    },
    {
      "cell_type": "code",
      "metadata": {
        "id": "oIcgUbbUjymV"
      },
      "source": [
        "from keras.datasets import mnist"
      ],
      "execution_count": 5,
      "outputs": []
    },
    {
      "cell_type": "markdown",
      "metadata": {
        "id": "ZnJ2Pfs_jymX"
      },
      "source": [
        "#### Load Data"
      ]
    },
    {
      "cell_type": "code",
      "metadata": {
        "id": "JpHGHE9MjymY",
        "colab": {
          "base_uri": "https://localhost:8080/"
        },
        "outputId": "0c77a54e-c398-4dd5-8d11-da18bb0312cd"
      },
      "source": [
        "(train_images, train_labels), (test_images, test_labels) = mnist.load_data()"
      ],
      "execution_count": 6,
      "outputs": [
        {
          "output_type": "stream",
          "name": "stdout",
          "text": [
            "Downloading data from https://storage.googleapis.com/tensorflow/tf-keras-datasets/mnist.npz\n",
            "11493376/11490434 [==============================] - 0s 0us/step\n",
            "11501568/11490434 [==============================] - 0s 0us/step\n"
          ]
        }
      ]
    },
    {
      "cell_type": "code",
      "metadata": {
        "id": "X51q9vhIs9c-"
      },
      "source": [
        "train_images = train_images.reshape((60000, 28, 28, 1)) #The data is flattened; we reshape it to have matrix form\n",
        "train_images = train_images.astype('float32') / 255\n",
        "test_images = test_images.reshape((10000, 28, 28, 1))\n",
        "test_images = test_images.astype('float32') / 255"
      ],
      "execution_count": 7,
      "outputs": []
    },
    {
      "cell_type": "code",
      "metadata": {
        "id": "uYJEAHIqswib"
      },
      "source": [
        "train_labels = tf.keras.utils.to_categorical(train_labels)\n",
        "test_labels = tf.keras.utils.to_categorical(test_labels)"
      ],
      "execution_count": 8,
      "outputs": []
    },
    {
      "cell_type": "markdown",
      "metadata": {
        "id": "4HoTLrfSjymd"
      },
      "source": [
        "#### compile and fit model "
      ]
    },
    {
      "cell_type": "code",
      "metadata": {
        "id": "i23FDtC9jyme",
        "colab": {
          "base_uri": "https://localhost:8080/"
        },
        "outputId": "24893751-4153-43ec-c067-699efb020d7f"
      },
      "source": [
        "model.compile(optimizer='rmsprop', \n",
        "              loss='categorical_crossentropy',\n",
        "              metrics=['accuracy'])\n",
        "history = model.fit(train_images, train_labels, epochs=5, batch_size=64, validation_split=0.2) # 20% of the data is used for validation"
      ],
      "execution_count": 9,
      "outputs": [
        {
          "output_type": "stream",
          "name": "stdout",
          "text": [
            "Epoch 1/5\n",
            "750/750 [==============================] - 20s 5ms/step - loss: 0.2039 - accuracy: 0.9360 - val_loss: 0.0739 - val_accuracy: 0.9793\n",
            "Epoch 2/5\n",
            "750/750 [==============================] - 4s 5ms/step - loss: 0.0529 - accuracy: 0.9833 - val_loss: 0.0493 - val_accuracy: 0.9852\n",
            "Epoch 3/5\n",
            "750/750 [==============================] - 4s 5ms/step - loss: 0.0359 - accuracy: 0.9886 - val_loss: 0.0446 - val_accuracy: 0.9873\n",
            "Epoch 4/5\n",
            "750/750 [==============================] - 4s 5ms/step - loss: 0.0264 - accuracy: 0.9918 - val_loss: 0.0386 - val_accuracy: 0.9893\n",
            "Epoch 5/5\n",
            "750/750 [==============================] - 4s 5ms/step - loss: 0.0208 - accuracy: 0.9935 - val_loss: 0.0375 - val_accuracy: 0.9902\n"
          ]
        }
      ]
    },
    {
      "cell_type": "markdown",
      "metadata": {
        "id": "9zU8iI5ojymg"
      },
      "source": [
        "#### evaluate model"
      ]
    },
    {
      "cell_type": "code",
      "metadata": {
        "id": "Z3VeaL1Njymh",
        "colab": {
          "base_uri": "https://localhost:8080/"
        },
        "outputId": "16c7ad33-b8dc-42e1-9115-4cbb79b5b926"
      },
      "source": [
        "test_loss, test_acc = model.evaluate(test_images, test_labels)\n",
        "test_acc"
      ],
      "execution_count": 10,
      "outputs": [
        {
          "output_type": "stream",
          "name": "stdout",
          "text": [
            "313/313 [==============================] - 1s 3ms/step - loss: 0.0260 - accuracy: 0.9919\n"
          ]
        },
        {
          "output_type": "execute_result",
          "data": {
            "text/plain": [
              "0.9919000267982483"
            ]
          },
          "metadata": {},
          "execution_count": 10
        }
      ]
    },
    {
      "cell_type": "code",
      "metadata": {
        "id": "MltI4Yx4B9Tn",
        "outputId": "1b3a7e50-2f64-4fce-bb0c-91989598f6a4",
        "colab": {
          "base_uri": "https://localhost:8080/"
        }
      },
      "source": [
        "import numpy as np\n",
        "\n",
        "img = test_images[1, :, :, :]\n",
        "\n",
        "img1 = np.expand_dims(img, axis=0)\n",
        "\n",
        "y = model.predict(img1)\n",
        "print(y)"
      ],
      "execution_count": 11,
      "outputs": [
        {
          "output_type": "stream",
          "name": "stdout",
          "text": [
            "[[7.24687993e-07 1.85145694e-07 9.99999046e-01 6.08908713e-12\n",
            "  1.45979912e-11 5.24558255e-14 2.47146725e-09 4.00362625e-11\n",
            "  1.38704204e-09 1.05582335e-14]]\n"
          ]
        }
      ]
    },
    {
      "cell_type": "code",
      "metadata": {
        "id": "wXNZOY7Sjymj",
        "colab": {
          "base_uri": "https://localhost:8080/",
          "height": 545
        },
        "outputId": "04b3cbdc-6f25-4bbf-bbce-627ec8f125d9"
      },
      "source": [
        "import matplotlib.pyplot as plt\n",
        "\n",
        "acc = history.history['accuracy']\n",
        "val_acc = history.history['val_accuracy']\n",
        "loss = history.history['loss']\n",
        "val_loss = history.history['val_loss']\n",
        "\n",
        "epochs = range(1, len(acc) + 1)\n",
        "\n",
        "plt.plot(epochs, acc, 'b', label='Training acc')\n",
        "plt.plot(epochs, val_acc, 'b', color=\"red\", label='Validation acc')\n",
        "plt.title('Training and validation accuracy')\n",
        "plt.legend()\n",
        "\n",
        "plt.figure()\n",
        "\n",
        "plt.plot(epochs, loss, 'b', label='Training loss')\n",
        "plt.plot(epochs, val_loss, 'b', color=\"red\",label='Validation loss')\n",
        "plt.title('Training and validation loss')\n",
        "plt.legend()\n",
        "\n",
        "plt.show()"
      ],
      "execution_count": 12,
      "outputs": [
        {
          "output_type": "display_data",
          "data": {
            "text/plain": [
              "<Figure size 432x288 with 1 Axes>"
            ],
            "image/png": "[encoded data removed]"
          },
          "metadata": {
            "needs_background": "light"
          }
        },
        {
          "output_type": "display_data",
          "data": {
            "text/plain": [
              "<Figure size 432x288 with 1 Axes>"
            ],
            "image/png": "[encoded data removed]"
          },
          "metadata": {
            "needs_background": "light"
          }
        }
      ]
    },
    {
      "cell_type": "markdown",
      "metadata": {
        "id": "dsQMc0Iojyml"
      },
      "source": [
        "## Task 1\n",
        "\n",
        "Change the activation function and other parameters such as optimizer to see the effect on the network and it's performance. If possible create a grid search. "
      ]
    },
    {
      "cell_type": "code",
      "metadata": {
        "id": "owJ-29BrJXNa",
        "outputId": "4b0f91e1-a4e0-4524-f5be-a86870ea17a6",
        "colab": {
          "base_uri": "https://localhost:8080/"
        }
      },
      "source": [
        "# Experiment 1: What if we add a more powerful densely layer network at the end?\n",
        "\n",
        "model = models.Sequential()\n",
        "\n",
        "# Block 1.  I add 32 kernels of size 3x3 \n",
        "model.add(layers.Conv2D(32, (3, 3), activation='relu', input_shape=(28, 28, 1))) # 1 Layers\n",
        "model.add(layers.MaxPooling2D((2, 2)))\n",
        "\n",
        "# Block 2. I add 64 kernels of size 3x3\n",
        "model.add(layers.Conv2D(64, (3, 3), activation='relu'))\n",
        "model.add(layers.MaxPooling2D((2, 2)))\n",
        "\n",
        "# Block 3\n",
        "model.add(layers.Conv2D(64, (3, 3), activation='relu'))\n",
        "\n",
        "model.add(layers.Flatten())\n",
        "model.add(layers.Dense(120, activation='relu')) \n",
        "model.add(layers.Dense(30, activation='relu')) \n",
        "model.add(layers.Dense(10, activation='softmax'))  # output probabilities\n",
        "model.summary()\n",
        "\n",
        "model.compile(optimizer='rmsprop', \n",
        "              loss='categorical_crossentropy',\n",
        "              metrics=['accuracy'])\n",
        "history = model.fit(train_images, train_labels, epochs=5, batch_size=64, validation_split=0.2) # 20% of the data is used for validation\n",
        "\n",
        "test_loss, test_acc = model.evaluate(test_images, test_labels)\n",
        "test_acc\n"
      ],
      "execution_count": 13,
      "outputs": [
        {
          "output_type": "stream",
          "name": "stdout",
          "text": [
            "Model: \"sequential_1\"\n",
            "_________________________________________________________________\n",
            " Layer (type)                Output Shape              Param #   \n",
            "=================================================================\n",
            " conv2d_3 (Conv2D)           (None, 26, 26, 32)        320       \n",
            "                                                                 \n",
            " max_pooling2d_2 (MaxPooling  (None, 13, 13, 32)       0         \n",
            " 2D)                                                             \n",
            "                                                                 \n",
            " conv2d_4 (Conv2D)           (None, 11, 11, 64)        18496     \n",
            "                                                                 \n",
            " max_pooling2d_3 (MaxPooling  (None, 5, 5, 64)         0         \n",
            " 2D)                                                             \n",
            "                                                                 \n",
            " conv2d_5 (Conv2D)           (None, 3, 3, 64)          36928     \n",
            "                                                                 \n",
            " flatten_1 (Flatten)         (None, 576)               0         \n",
            "                                                                 \n",
            " dense_2 (Dense)             (None, 120)               69240     \n",
            "                                                                 \n",
            " dense_3 (Dense)             (None, 30)                3630      \n",
            "                                                                 \n",
            " dense_4 (Dense)             (None, 10)                310       \n",
            "                                                                 \n",
            "=================================================================\n",
            "Total params: 128,924\n",
            "Trainable params: 128,924\n",
            "Non-trainable params: 0\n",
            "_________________________________________________________________\n",
            "Epoch 1/5\n",
            "750/750 [==============================] - 5s 6ms/step - loss: 0.2235 - accuracy: 0.9298 - val_loss: 0.0868 - val_accuracy: 0.9718\n",
            "Epoch 2/5\n",
            "750/750 [==============================] - 4s 5ms/step - loss: 0.0554 - accuracy: 0.9830 - val_loss: 0.0469 - val_accuracy: 0.9866\n",
            "Epoch 3/5\n",
            "750/750 [==============================] - 4s 5ms/step - loss: 0.0379 - accuracy: 0.9887 - val_loss: 0.0435 - val_accuracy: 0.9880\n",
            "Epoch 4/5\n",
            "750/750 [==============================] - 4s 5ms/step - loss: 0.0290 - accuracy: 0.9910 - val_loss: 0.0426 - val_accuracy: 0.9893\n",
            "Epoch 5/5\n",
            "750/750 [==============================] - 5s 7ms/step - loss: 0.0224 - accuracy: 0.9931 - val_loss: 0.0425 - val_accuracy: 0.9908\n",
            "313/313 [==============================] - 1s 4ms/step - loss: 0.0271 - accuracy: 0.9914\n"
          ]
        },
        {
          "output_type": "execute_result",
          "data": {
            "text/plain": [
              "0.9914000034332275"
            ]
          },
          "metadata": {},
          "execution_count": 13
        }
      ]
    },
    {
      "cell_type": "code",
      "source": [
        "# Experiment 2: What if we add a much more powerful densely layer network at the end?\n",
        "\n",
        "model = models.Sequential()\n",
        "\n",
        "# Block 1.  I add 32 kernels of size 3x3 \n",
        "model.add(layers.Conv2D(32, (4, 4), activation='relu', input_shape=(28, 28, 1))) # 1 Layers\n",
        "model.add(layers.Conv2D(32, (2, 2), activation='relu'))\n",
        "model.add(layers.Conv2D(64, (2, 2), activation='relu'))\n",
        "model.add(layers.Conv2D(100, (2, 2), activation='relu'))\n",
        "\n",
        "# Block 3\n",
        "model.add(layers.Conv2D(64, (2, 2), activation='relu'))\n",
        "\n",
        "model.add(layers.Flatten())\n",
        "model.add(layers.Dense(1000, activation='relu')) \n",
        "model.add(layers.Dense(500, activation='relu')) \n",
        "model.add(layers.Dense(10, activation='softmax'))  # output probabilities\n",
        "model.summary()\n",
        "\n",
        "model.compile(optimizer='rmsprop', \n",
        "              loss='categorical_crossentropy',\n",
        "              metrics=['accuracy'])\n",
        "history = model.fit(train_images, train_labels, epochs=5, batch_size=64, validation_split=0.2) # 20% of the data is used for validation\n",
        "\n",
        "test_loss, test_acc = model.evaluate(test_images, test_labels)\n",
        "test_acc\n"
      ],
      "metadata": {
        "id": "YSt_V_tjq1HG",
        "outputId": "e2038d87-5191-4a37-8275-e8acefb98855",
        "colab": {
          "base_uri": "https://localhost:8080/"
        }
      },
      "execution_count": 14,
      "outputs": [
        {
          "output_type": "stream",
          "name": "stdout",
          "text": [
            "Model: \"sequential_2\"\n",
            "_________________________________________________________________\n",
            " Layer (type)                Output Shape              Param #   \n",
            "=================================================================\n",
            " conv2d_6 (Conv2D)           (None, 25, 25, 32)        544       \n",
            "                                                                 \n",
            " conv2d_7 (Conv2D)           (None, 24, 24, 32)        4128      \n",
            "                                                                 \n",
            " conv2d_8 (Conv2D)           (None, 23, 23, 64)        8256      \n",
            "                                                                 \n",
            " conv2d_9 (Conv2D)           (None, 22, 22, 100)       25700     \n",
            "                                                                 \n",
            " conv2d_10 (Conv2D)          (None, 21, 21, 64)        25664     \n",
            "                                                                 \n",
            " flatten_2 (Flatten)         (None, 28224)             0         \n",
            "                                                                 \n",
            " dense_5 (Dense)             (None, 1000)              28225000  \n",
            "                                                                 \n",
            " dense_6 (Dense)             (None, 500)               500500    \n",
            "                                                                 \n",
            " dense_7 (Dense)             (None, 10)                5010      \n",
            "                                                                 \n",
            "=================================================================\n",
            "Total params: 28,794,802\n",
            "Trainable params: 28,794,802\n",
            "Non-trainable params: 0\n",
            "_________________________________________________________________\n",
            "Epoch 1/5\n",
            "750/750 [==============================] - 19s 24ms/step - loss: 0.1683 - accuracy: 0.9491 - val_loss: 0.0777 - val_accuracy: 0.9809\n",
            "Epoch 2/5\n",
            "750/750 [==============================] - 18s 24ms/step - loss: 0.0538 - accuracy: 0.9848 - val_loss: 0.1232 - val_accuracy: 0.9713\n",
            "Epoch 3/5\n",
            "750/750 [==============================] - 18s 23ms/step - loss: 0.0401 - accuracy: 0.9892 - val_loss: 0.0634 - val_accuracy: 0.9859\n",
            "Epoch 4/5\n",
            "750/750 [==============================] - 18s 24ms/step - loss: 0.0320 - accuracy: 0.9912 - val_loss: 0.0510 - val_accuracy: 0.9902\n",
            "Epoch 5/5\n",
            "750/750 [==============================] - 18s 24ms/step - loss: 0.0252 - accuracy: 0.9938 - val_loss: 0.0746 - val_accuracy: 0.9871\n",
            "313/313 [==============================] - 1s 4ms/step - loss: 0.0651 - accuracy: 0.9884\n"
          ]
        },
        {
          "output_type": "execute_result",
          "data": {
            "text/plain": [
              "0.9883999824523926"
            ]
          },
          "metadata": {},
          "execution_count": 14
        }
      ]
    },
    {
      "cell_type": "code",
      "source": [
        "# A very simple network that achieves 99% performance\n",
        "model = models.Sequential(\n",
        "    [\n",
        "        models.Input(shape=(28, 28, 1)),\n",
        "        layers.Conv2D(32, kernel_size=(3, 3), activation=\"relu\"),\n",
        "        layers.MaxPooling2D(pool_size=(2, 2)),\n",
        "        layers.Conv2D(64, kernel_size=(3, 3), activation=\"relu\"),\n",
        "        layers.MaxPooling2D(pool_size=(2, 2)),\n",
        "        layers.Flatten(),\n",
        "        layers.Dropout(0.5),\n",
        "        layers.Dense(10, activation=\"softmax\"),\n",
        "    ]\n",
        ")\n",
        "\n",
        "model.summary()\n",
        "\n",
        "model.compile(optimizer='adam', \n",
        "              loss='categorical_crossentropy',\n",
        "              metrics=['accuracy'])\n",
        "history = model.fit(train_images, train_labels, epochs=15, batch_size=128, validation_split=0.2) # 20% of the data is used for validation\n",
        "\n",
        "test_loss, test_acc = model.evaluate(test_images, test_labels)\n",
        "test_acc\n"
      ],
      "metadata": {
        "colab": {
          "base_uri": "https://localhost:8080/"
        },
        "id": "fLK-2Qjr_bdD",
        "outputId": "e7933c31-0729-4acc-c5f0-497d7ceb02ae"
      },
      "execution_count": 15,
      "outputs": [
        {
          "output_type": "stream",
          "name": "stdout",
          "text": [
            "Model: \"sequential_3\"\n",
            "_________________________________________________________________\n",
            " Layer (type)                Output Shape              Param #   \n",
            "=================================================================\n",
            " conv2d_11 (Conv2D)          (None, 26, 26, 32)        320       \n",
            "                                                                 \n",
            " max_pooling2d_4 (MaxPooling  (None, 13, 13, 32)       0         \n",
            " 2D)                                                             \n",
            "                                                                 \n",
            " conv2d_12 (Conv2D)          (None, 11, 11, 64)        18496     \n",
            "                                                                 \n",
            " max_pooling2d_5 (MaxPooling  (None, 5, 5, 64)         0         \n",
            " 2D)                                                             \n",
            "                                                                 \n",
            " flatten_3 (Flatten)         (None, 1600)              0         \n",
            "                                                                 \n",
            " dropout (Dropout)           (None, 1600)              0         \n",
            "                                                                 \n",
            " dense_8 (Dense)             (None, 10)                16010     \n",
            "                                                                 \n",
            "=================================================================\n",
            "Total params: 34,826\n",
            "Trainable params: 34,826\n",
            "Non-trainable params: 0\n",
            "_________________________________________________________________\n",
            "Epoch 1/15\n",
            "375/375 [==============================] - 3s 6ms/step - loss: 0.4173 - accuracy: 0.8719 - val_loss: 0.1058 - val_accuracy: 0.9707\n",
            "Epoch 2/15\n",
            "375/375 [==============================] - 2s 5ms/step - loss: 0.1230 - accuracy: 0.9635 - val_loss: 0.0675 - val_accuracy: 0.9813\n",
            "Epoch 3/15\n",
            "375/375 [==============================] - 2s 5ms/step - loss: 0.0891 - accuracy: 0.9725 - val_loss: 0.0596 - val_accuracy: 0.9836\n",
            "Epoch 4/15\n",
            "375/375 [==============================] - 2s 5ms/step - loss: 0.0755 - accuracy: 0.9768 - val_loss: 0.0496 - val_accuracy: 0.9866\n",
            "Epoch 5/15\n",
            "375/375 [==============================] - 2s 5ms/step - loss: 0.0645 - accuracy: 0.9803 - val_loss: 0.0486 - val_accuracy: 0.9857\n",
            "Epoch 6/15\n",
            "375/375 [==============================] - 2s 5ms/step - loss: 0.0593 - accuracy: 0.9817 - val_loss: 0.0439 - val_accuracy: 0.9877\n",
            "Epoch 7/15\n",
            "375/375 [==============================] - 2s 5ms/step - loss: 0.0542 - accuracy: 0.9828 - val_loss: 0.0414 - val_accuracy: 0.9878\n",
            "Epoch 8/15\n",
            "375/375 [==============================] - 2s 5ms/step - loss: 0.0508 - accuracy: 0.9841 - val_loss: 0.0391 - val_accuracy: 0.9889\n",
            "Epoch 9/15\n",
            "375/375 [==============================] - 2s 5ms/step - loss: 0.0465 - accuracy: 0.9849 - val_loss: 0.0369 - val_accuracy: 0.9893\n",
            "Epoch 10/15\n",
            "375/375 [==============================] - 2s 5ms/step - loss: 0.0439 - accuracy: 0.9862 - val_loss: 0.0358 - val_accuracy: 0.9897\n",
            "Epoch 11/15\n",
            "375/375 [==============================] - 2s 5ms/step - loss: 0.0428 - accuracy: 0.9861 - val_loss: 0.0358 - val_accuracy: 0.9893\n",
            "Epoch 12/15\n",
            "375/375 [==============================] - 2s 5ms/step - loss: 0.0376 - accuracy: 0.9874 - val_loss: 0.0348 - val_accuracy: 0.9896\n",
            "Epoch 13/15\n",
            "375/375 [==============================] - 2s 5ms/step - loss: 0.0368 - accuracy: 0.9882 - val_loss: 0.0333 - val_accuracy: 0.9908\n",
            "Epoch 14/15\n",
            "375/375 [==============================] - 2s 6ms/step - loss: 0.0345 - accuracy: 0.9890 - val_loss: 0.0343 - val_accuracy: 0.9902\n",
            "Epoch 15/15\n",
            "375/375 [==============================] - 2s 5ms/step - loss: 0.0333 - accuracy: 0.9894 - val_loss: 0.0338 - val_accuracy: 0.9906\n",
            "313/313 [==============================] - 1s 3ms/step - loss: 0.0274 - accuracy: 0.9905\n"
          ]
        },
        {
          "output_type": "execute_result",
          "data": {
            "text/plain": [
              "0.9904999732971191"
            ]
          },
          "metadata": {},
          "execution_count": 15
        }
      ]
    },
    {
      "cell_type": "code",
      "source": [
        "# How much data do we need in order to get a decent classification with this last architecture?\n",
        "\n",
        "model = models.Sequential(\n",
        "    [\n",
        "        models.Input(shape=(28, 28, 1)),\n",
        "        layers.Conv2D(32, kernel_size=(3, 3), activation=\"relu\"),\n",
        "        layers.MaxPooling2D(pool_size=(2, 2)),\n",
        "        layers.Conv2D(64, kernel_size=(3, 3), activation=\"relu\"),\n",
        "        layers.MaxPooling2D(pool_size=(2, 2)),\n",
        "        layers.Flatten(),\n",
        "        layers.Dropout(0.5),\n",
        "        layers.Dense(10, activation=\"softmax\"),\n",
        "    ]\n",
        ")\n",
        "\n",
        "history_test_acc = dict()\n",
        "\n",
        "for train_size in range(1,100,5):\n",
        "\n",
        "  max_size = train_images.shape[0]\n",
        "  new_size = (int)(train_size/100 * max_size)\n",
        "\n",
        "  model.compile(optimizer='adam', \n",
        "                loss='categorical_crossentropy',\n",
        "                metrics=['accuracy'])\n",
        "  history = model.fit(train_images[0:new_size,], train_labels[0:new_size,], epochs=15, batch_size=128, validation_split=0.2, verbose = 0) # 20% of the data is used for validation\n",
        "  test_loss, test_acc = model.evaluate(test_images, test_labels)\n",
        "  print(train_size, test_acc)\n",
        "  history_test_acc[train_size]=test_acc"
      ],
      "metadata": {
        "colab": {
          "base_uri": "https://localhost:8080/"
        },
        "id": "fXK3T35ZA5Wl",
        "outputId": "d14d264b-e99b-4571-e7dd-a5daa0fabc7a"
      },
      "execution_count": 16,
      "outputs": [
        {
          "output_type": "stream",
          "name": "stdout",
          "text": [
            "313/313 [==============================] - 1s 3ms/step - loss: 0.5006 - accuracy: 0.8447\n",
            "1 0.8446999788284302\n",
            "313/313 [==============================] - 1s 3ms/step - loss: 0.1121 - accuracy: 0.9655\n",
            "6 0.965499997138977\n",
            "313/313 [==============================] - 1s 3ms/step - loss: 0.0682 - accuracy: 0.9783\n",
            "11 0.9782999753952026\n",
            "313/313 [==============================] - 1s 3ms/step - loss: 0.0561 - accuracy: 0.9828\n",
            "16 0.9828000068664551\n",
            "313/313 [==============================] - 1s 3ms/step - loss: 0.0557 - accuracy: 0.9842\n",
            "21 0.9842000007629395\n",
            "313/313 [==============================] - 1s 3ms/step - loss: 0.0509 - accuracy: 0.9853\n",
            "26 0.9853000044822693\n",
            "313/313 [==============================] - 1s 3ms/step - loss: 0.0397 - accuracy: 0.9881\n",
            "31 0.988099992275238\n",
            "313/313 [==============================] - 1s 3ms/step - loss: 0.0397 - accuracy: 0.9880\n",
            "36 0.9879999756813049\n",
            "313/313 [==============================] - 1s 3ms/step - loss: 0.0399 - accuracy: 0.9891\n",
            "41 0.9890999794006348\n",
            "313/313 [==============================] - 1s 3ms/step - loss: 0.0396 - accuracy: 0.9901\n",
            "46 0.9901000261306763\n",
            "313/313 [==============================] - 1s 3ms/step - loss: 0.0355 - accuracy: 0.9909\n",
            "51 0.9908999800682068\n",
            "313/313 [==============================] - 1s 3ms/step - loss: 0.0364 - accuracy: 0.9912\n",
            "56 0.9911999702453613\n",
            "313/313 [==============================] - 1s 3ms/step - loss: 0.0324 - accuracy: 0.9914\n",
            "61 0.9914000034332275\n",
            "313/313 [==============================] - 1s 3ms/step - loss: 0.0316 - accuracy: 0.9927\n",
            "66 0.9926999807357788\n",
            "313/313 [==============================] - 1s 3ms/step - loss: 0.0328 - accuracy: 0.9923\n",
            "71 0.9922999739646912\n",
            "313/313 [==============================] - 1s 3ms/step - loss: 0.0314 - accuracy: 0.9919\n",
            "76 0.9919000267982483\n",
            "313/313 [==============================] - 1s 3ms/step - loss: 0.0308 - accuracy: 0.9929\n",
            "81 0.992900013923645\n",
            "313/313 [==============================] - 1s 3ms/step - loss: 0.0307 - accuracy: 0.9928\n",
            "86 0.9927999973297119\n",
            "313/313 [==============================] - 1s 3ms/step - loss: 0.0292 - accuracy: 0.9929\n",
            "91 0.992900013923645\n",
            "313/313 [==============================] - 1s 3ms/step - loss: 0.0310 - accuracy: 0.9928\n",
            "96 0.9927999973297119\n"
          ]
        }
      ]
    },
    {
      "cell_type": "code",
      "source": [
        "train_sizes = [ train_images.shape[0] * x / 100 for x in list(history_test_acc.keys()) ]\n",
        "plt.plot(train_sizes, list(history_test_acc.values()))\n",
        "plt.xlabel('train dataset size')\n",
        "plt.ylabel('accuracy in test')"
      ],
      "metadata": {
        "colab": {
          "base_uri": "https://localhost:8080/",
          "height": 300
        },
        "id": "u4rGmcOiB_ZE",
        "outputId": "e64ca609-3979-4efe-e5e8-3805ff3b1691"
      },
      "execution_count": 45,
      "outputs": [
        {
          "output_type": "execute_result",
          "data": {
            "text/plain": [
              "Text(0, 0.5, 'accuracy in test')"
            ]
          },
          "metadata": {},
          "execution_count": 45
        },
        {
          "output_type": "display_data",
          "data": {
            "text/plain": [
              "<Figure size 432x288 with 1 Axes>"
            ],
            "image/png": "[encoded data removed]"
          },
          "metadata": {
            "needs_background": "light"
          }
        }
      ]
    },
    {
      "cell_type": "code",
      "source": [
        "# Let's try to strain use very little data and see what happens\n",
        "\n",
        "model = models.Sequential(\n",
        "    [\n",
        "        models.Input(shape=(28, 28, 1)),\n",
        "        layers.Conv2D(32, kernel_size=(3, 3), activation=\"relu\"),\n",
        "        layers.MaxPooling2D(pool_size=(2, 2)),\n",
        "        layers.Conv2D(64, kernel_size=(3, 3), activation=\"relu\"),\n",
        "        layers.MaxPooling2D(pool_size=(2, 2)),\n",
        "        layers.Flatten(),\n",
        "        layers.Dropout(0.5),\n",
        "        layers.Dense(10, activation=\"softmax\"),\n",
        "    ]\n",
        ")\n",
        "\n",
        "history_test_acc = dict()\n",
        "\n",
        "for train_size in range(1,100,1):\n",
        "\n",
        "  max_size = train_images.shape[0]\n",
        "  new_size = (int)(train_size/1000 * max_size)\n",
        "\n",
        "  model.compile(optimizer='adam', \n",
        "                loss='categorical_crossentropy',\n",
        "                metrics=['accuracy'])\n",
        "  history = model.fit(train_images[0:new_size,], train_labels[0:new_size,], epochs=15, batch_size=128, validation_split=0.2, verbose = 0) # 20% of the data is used for validation\n",
        "  test_loss, test_acc = model.evaluate(test_images, test_labels)\n",
        "  print(train_size, test_acc)\n",
        "  history_test_acc[train_size]=test_acc\n",
        "\n",
        "train_sizes = [ train_images.shape[0] * x / 1000 for x in list(history_test_acc.keys()) ]\n",
        "plt.plot(train_sizes, list(history_test_acc.values()))\n",
        "plt.xlabel('train dataset size')\n",
        "plt.ylabel('accuracy in test')\n"
      ],
      "metadata": {
        "colab": {
          "base_uri": "https://localhost:8080/",
          "height": 1000
        },
        "id": "zPt0Z2ua_t4N",
        "outputId": "864a6e6d-8ba8-4a34-b990-714507fafd98"
      },
      "execution_count": 47,
      "outputs": [
        {
          "output_type": "stream",
          "name": "stdout",
          "text": [
            "313/313 [==============================] - 1s 3ms/step - loss: 1.9838 - accuracy: 0.3655\n",
            "1 0.36550000309944153\n",
            "313/313 [==============================] - 1s 3ms/step - loss: 1.2748 - accuracy: 0.6424\n",
            "2 0.6424000263214111\n",
            "313/313 [==============================] - 1s 3ms/step - loss: 1.0002 - accuracy: 0.7159\n",
            "3 0.7159000039100647\n",
            "313/313 [==============================] - 1s 3ms/step - loss: 0.6999 - accuracy: 0.7969\n",
            "4 0.7968999743461609\n",
            "313/313 [==============================] - 1s 3ms/step - loss: 0.7635 - accuracy: 0.8074\n",
            "5 0.8073999881744385\n",
            "313/313 [==============================] - 1s 3ms/step - loss: 0.5531 - accuracy: 0.8490\n",
            "6 0.8489999771118164\n",
            "313/313 [==============================] - 1s 3ms/step - loss: 0.4984 - accuracy: 0.8742\n",
            "7 0.8741999864578247\n",
            "313/313 [==============================] - 1s 3ms/step - loss: 0.4540 - accuracy: 0.8855\n",
            "8 0.8855000138282776\n",
            "313/313 [==============================] - 1s 3ms/step - loss: 0.4056 - accuracy: 0.8981\n",
            "9 0.8981000185012817\n",
            "313/313 [==============================] - 1s 3ms/step - loss: 0.3780 - accuracy: 0.9090\n",
            "10 0.9089999794960022\n",
            "313/313 [==============================] - 1s 3ms/step - loss: 0.2931 - accuracy: 0.9227\n",
            "11 0.9226999878883362\n",
            "313/313 [==============================] - 1s 3ms/step - loss: 0.3010 - accuracy: 0.9273\n",
            "12 0.927299976348877\n",
            "313/313 [==============================] - 1s 3ms/step - loss: 0.3111 - accuracy: 0.9314\n",
            "13 0.9314000010490417\n",
            "313/313 [==============================] - 1s 3ms/step - loss: 0.2737 - accuracy: 0.9364\n",
            "14 0.9363999962806702\n",
            "313/313 [==============================] - 1s 3ms/step - loss: 0.2560 - accuracy: 0.9434\n",
            "15 0.9434000253677368\n",
            "313/313 [==============================] - 1s 3ms/step - loss: 0.2786 - accuracy: 0.9455\n",
            "16 0.9455000162124634\n",
            "313/313 [==============================] - 1s 3ms/step - loss: 0.2650 - accuracy: 0.9460\n",
            "17 0.9459999799728394\n",
            "313/313 [==============================] - 1s 3ms/step - loss: 0.2139 - accuracy: 0.9513\n",
            "18 0.9513000249862671\n",
            "313/313 [==============================] - 1s 3ms/step - loss: 0.1878 - accuracy: 0.9542\n",
            "19 0.954200029373169\n",
            "313/313 [==============================] - 1s 3ms/step - loss: 0.1823 - accuracy: 0.9569\n",
            "20 0.9569000005722046\n",
            "313/313 [==============================] - 1s 3ms/step - loss: 0.1987 - accuracy: 0.9568\n",
            "21 0.9567999839782715\n",
            "313/313 [==============================] - 1s 3ms/step - loss: 0.2078 - accuracy: 0.9543\n",
            "22 0.9542999863624573\n",
            "313/313 [==============================] - 1s 3ms/step - loss: 0.2030 - accuracy: 0.9564\n",
            "23 0.9563999772071838\n",
            "313/313 [==============================] - 1s 3ms/step - loss: 0.1840 - accuracy: 0.9601\n",
            "24 0.960099995136261\n",
            "313/313 [==============================] - 1s 3ms/step - loss: 0.1944 - accuracy: 0.9599\n",
            "25 0.9599000215530396\n",
            "313/313 [==============================] - 1s 3ms/step - loss: 0.1646 - accuracy: 0.9636\n",
            "26 0.9635999798774719\n",
            "313/313 [==============================] - 1s 3ms/step - loss: 0.1921 - accuracy: 0.9617\n",
            "27 0.9617000222206116\n",
            "313/313 [==============================] - 1s 3ms/step - loss: 0.1781 - accuracy: 0.9655\n",
            "28 0.965499997138977\n",
            "313/313 [==============================] - 1s 3ms/step - loss: 0.1784 - accuracy: 0.9654\n",
            "29 0.965399980545044\n",
            "313/313 [==============================] - 1s 3ms/step - loss: 0.1939 - accuracy: 0.9613\n",
            "30 0.9613000154495239\n",
            "313/313 [==============================] - 1s 3ms/step - loss: 0.1840 - accuracy: 0.9666\n",
            "31 0.9666000008583069\n",
            "313/313 [==============================] - 1s 3ms/step - loss: 0.1792 - accuracy: 0.9669\n",
            "32 0.9668999910354614\n",
            "313/313 [==============================] - 1s 3ms/step - loss: 0.1841 - accuracy: 0.9669\n",
            "33 0.9668999910354614\n",
            "313/313 [==============================] - 1s 3ms/step - loss: 0.1864 - accuracy: 0.9684\n",
            "34 0.9684000015258789\n",
            "313/313 [==============================] - 1s 3ms/step - loss: 0.1975 - accuracy: 0.9661\n",
            "35 0.9660999774932861\n",
            "313/313 [==============================] - 1s 3ms/step - loss: 0.1899 - accuracy: 0.9680\n",
            "36 0.9679999947547913\n",
            "313/313 [==============================] - 1s 3ms/step - loss: 0.2010 - accuracy: 0.9681\n",
            "37 0.9681000113487244\n",
            "313/313 [==============================] - 1s 3ms/step - loss: 0.2085 - accuracy: 0.9667\n",
            "38 0.96670001745224\n",
            "313/313 [==============================] - 1s 3ms/step - loss: 0.1917 - accuracy: 0.9671\n",
            "39 0.9671000242233276\n",
            "313/313 [==============================] - 1s 3ms/step - loss: 0.1757 - accuracy: 0.9720\n",
            "40 0.972000002861023\n",
            "313/313 [==============================] - 1s 3ms/step - loss: 0.1834 - accuracy: 0.9681\n",
            "41 0.9681000113487244\n",
            "313/313 [==============================] - 1s 3ms/step - loss: 0.1806 - accuracy: 0.9697\n",
            "42 0.9696999788284302\n",
            "313/313 [==============================] - 1s 3ms/step - loss: 0.1658 - accuracy: 0.9711\n",
            "43 0.9710999727249146\n",
            "313/313 [==============================] - 1s 3ms/step - loss: 0.1400 - accuracy: 0.9735\n",
            "44 0.9735000133514404\n",
            "313/313 [==============================] - 1s 3ms/step - loss: 0.1498 - accuracy: 0.9741\n",
            "45 0.9740999937057495\n",
            "313/313 [==============================] - 1s 3ms/step - loss: 0.1595 - accuracy: 0.9740\n",
            "46 0.9739999771118164\n",
            "313/313 [==============================] - 1s 3ms/step - loss: 0.1564 - accuracy: 0.9739\n",
            "47 0.9739000201225281\n",
            "313/313 [==============================] - 1s 3ms/step - loss: 0.1808 - accuracy: 0.9712\n",
            "48 0.9711999893188477\n",
            "313/313 [==============================] - 1s 3ms/step - loss: 0.1552 - accuracy: 0.9734\n",
            "49 0.9733999967575073\n",
            "313/313 [==============================] - 1s 3ms/step - loss: 0.1584 - accuracy: 0.9760\n",
            "50 0.9760000109672546\n",
            "313/313 [==============================] - 1s 3ms/step - loss: 0.1311 - accuracy: 0.9763\n",
            "51 0.9763000011444092\n",
            "313/313 [==============================] - 1s 3ms/step - loss: 0.1460 - accuracy: 0.9768\n",
            "52 0.9768000245094299\n",
            "313/313 [==============================] - 1s 3ms/step - loss: 0.1340 - accuracy: 0.9764\n",
            "53 0.9764000177383423\n",
            "313/313 [==============================] - 1s 3ms/step - loss: 0.1408 - accuracy: 0.9772\n",
            "54 0.9771999716758728\n",
            "313/313 [==============================] - 1s 3ms/step - loss: 0.1381 - accuracy: 0.9775\n",
            "55 0.9775000214576721\n",
            "313/313 [==============================] - 1s 3ms/step - loss: 0.1153 - accuracy: 0.9780\n",
            "56 0.9779999852180481\n",
            "313/313 [==============================] - 1s 3ms/step - loss: 0.1334 - accuracy: 0.9755\n",
            "57 0.9754999876022339\n",
            "313/313 [==============================] - 1s 3ms/step - loss: 0.1194 - accuracy: 0.9758\n",
            "58 0.9757999777793884\n",
            "313/313 [==============================] - 1s 3ms/step - loss: 0.1204 - accuracy: 0.9789\n",
            "59 0.9789000153541565\n",
            "313/313 [==============================] - 1s 3ms/step - loss: 0.1064 - accuracy: 0.9798\n",
            "60 0.9797999858856201\n",
            "313/313 [==============================] - 1s 3ms/step - loss: 0.1180 - accuracy: 0.9788\n",
            "61 0.9787999987602234\n",
            "313/313 [==============================] - 1s 3ms/step - loss: 0.1261 - accuracy: 0.9795\n",
            "62 0.9794999957084656\n",
            "313/313 [==============================] - 1s 3ms/step - loss: 0.1412 - accuracy: 0.9773\n",
            "63 0.9772999882698059\n",
            "313/313 [==============================] - 1s 3ms/step - loss: 0.1104 - accuracy: 0.9793\n",
            "64 0.9793000221252441\n",
            "313/313 [==============================] - 1s 3ms/step - loss: 0.1389 - accuracy: 0.9779\n",
            "65 0.9779000282287598\n",
            "313/313 [==============================] - 1s 3ms/step - loss: 0.1245 - accuracy: 0.9797\n",
            "66 0.9797000288963318\n",
            "313/313 [==============================] - 1s 3ms/step - loss: 0.1313 - accuracy: 0.9796\n",
            "67 0.9796000123023987\n",
            "313/313 [==============================] - 1s 3ms/step - loss: 0.1426 - accuracy: 0.9787\n",
            "68 0.9786999821662903\n",
            "313/313 [==============================] - 1s 3ms/step - loss: 0.1139 - accuracy: 0.9796\n",
            "69 0.9796000123023987\n",
            "313/313 [==============================] - 1s 3ms/step - loss: 0.1216 - accuracy: 0.9801\n",
            "70 0.9800999760627747\n",
            "313/313 [==============================] - 1s 3ms/step - loss: 0.1306 - accuracy: 0.9804\n",
            "71 0.980400025844574\n",
            "313/313 [==============================] - 1s 3ms/step - loss: 0.1300 - accuracy: 0.9802\n",
            "72 0.9801999926567078\n",
            "313/313 [==============================] - 1s 3ms/step - loss: 0.1235 - accuracy: 0.9795\n",
            "73 0.9794999957084656\n",
            "313/313 [==============================] - 1s 3ms/step - loss: 0.1132 - accuracy: 0.9812\n",
            "74 0.9811999797821045\n",
            "313/313 [==============================] - 1s 3ms/step - loss: 0.1104 - accuracy: 0.9830\n",
            "75 0.9829999804496765\n",
            "313/313 [==============================] - 1s 3ms/step - loss: 0.1043 - accuracy: 0.9823\n",
            "76 0.9822999835014343\n",
            "313/313 [==============================] - 1s 3ms/step - loss: 0.1166 - accuracy: 0.9831\n",
            "77 0.9830999970436096\n",
            "313/313 [==============================] - 1s 3ms/step - loss: 0.1142 - accuracy: 0.9809\n",
            "78 0.98089998960495\n",
            "313/313 [==============================] - 1s 3ms/step - loss: 0.1035 - accuracy: 0.9827\n",
            "79 0.982699990272522\n",
            "313/313 [==============================] - 1s 3ms/step - loss: 0.1112 - accuracy: 0.9804\n",
            "80 0.980400025844574\n",
            "313/313 [==============================] - 1s 3ms/step - loss: 0.1304 - accuracy: 0.9801\n",
            "81 0.9800999760627747\n",
            "313/313 [==============================] - 1s 3ms/step - loss: 0.1199 - accuracy: 0.9823\n",
            "82 0.9822999835014343\n",
            "313/313 [==============================] - 1s 3ms/step - loss: 0.1159 - accuracy: 0.9830\n",
            "83 0.9829999804496765\n",
            "313/313 [==============================] - 1s 3ms/step - loss: 0.1163 - accuracy: 0.9816\n",
            "84 0.9815999865531921\n",
            "313/313 [==============================] - 1s 3ms/step - loss: 0.1062 - accuracy: 0.9832\n",
            "85 0.9832000136375427\n",
            "313/313 [==============================] - 1s 3ms/step - loss: 0.1099 - accuracy: 0.9827\n",
            "86 0.982699990272522\n",
            "313/313 [==============================] - 1s 3ms/step - loss: 0.0987 - accuracy: 0.9842\n",
            "87 0.9842000007629395\n",
            "313/313 [==============================] - 1s 3ms/step - loss: 0.1081 - accuracy: 0.9840\n",
            "88 0.984000027179718\n",
            "313/313 [==============================] - 1s 3ms/step - loss: 0.1092 - accuracy: 0.9828\n",
            "89 0.9828000068664551\n",
            "313/313 [==============================] - 1s 3ms/step - loss: 0.1140 - accuracy: 0.9831\n",
            "90 0.9830999970436096\n",
            "313/313 [==============================] - 1s 3ms/step - loss: 0.1141 - accuracy: 0.9829\n",
            "91 0.9829000234603882\n",
            "313/313 [==============================] - 1s 3ms/step - loss: 0.1053 - accuracy: 0.9841\n",
            "92 0.9840999841690063\n",
            "313/313 [==============================] - 1s 3ms/step - loss: 0.1043 - accuracy: 0.9838\n",
            "93 0.9837999939918518\n",
            "313/313 [==============================] - 1s 3ms/step - loss: 0.1002 - accuracy: 0.9845\n",
            "94 0.984499990940094\n",
            "313/313 [==============================] - 1s 3ms/step - loss: 0.0968 - accuracy: 0.9838\n",
            "95 0.9837999939918518\n",
            "313/313 [==============================] - 1s 3ms/step - loss: 0.1016 - accuracy: 0.9838\n",
            "96 0.9837999939918518\n",
            "313/313 [==============================] - 1s 3ms/step - loss: 0.1029 - accuracy: 0.9831\n",
            "97 0.9830999970436096\n",
            "313/313 [==============================] - 1s 3ms/step - loss: 0.1095 - accuracy: 0.9840\n",
            "98 0.984000027179718\n",
            "313/313 [==============================] - 1s 3ms/step - loss: 0.1057 - accuracy: 0.9840\n",
            "99 0.984000027179718\n"
          ]
        },
        {
          "output_type": "execute_result",
          "data": {
            "text/plain": [
              "Text(0, 0.5, 'accuracy in test')"
            ]
          },
          "metadata": {},
          "execution_count": 47
        },
        {
          "output_type": "display_data",
          "data": {
            "text/plain": [
              "<Figure size 432x288 with 1 Axes>"
            ],
            "image/png": "[encoded data removed]"
          },
          "metadata": {
            "needs_background": "light"
          }
        }
      ]
    },
    {
      "cell_type": "code",
      "source": [
        "# Looks like we don't need that much data to get something useful.!"
      ],
      "metadata": {
        "id": "osvefoeFAWM_"
      },
      "execution_count": 48,
      "outputs": []
    }
  ]
}